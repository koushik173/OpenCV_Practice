{
 "cells": [
  {
   "cell_type": "code",
   "execution_count": 470,
   "id": "42c230e1",
   "metadata": {},
   "outputs": [],
   "source": [
    "import numpy as np\n",
    "import matplotlib.pyplot as plt\n",
    "from PIL import Image\n",
    "import cv2"
   ]
  },
  {
   "cell_type": "code",
   "execution_count": 397,
   "id": "76df1d74",
   "metadata": {},
   "outputs": [],
   "source": [
    "imgface = Image.open(\"faceRGB.jpg\")\n",
    "imgface.mode"
   ]
  },
  {
   "cell_type": "code",
   "execution_count": 328,
   "id": "b240b5e6",
   "metadata": {},
   "outputs": [],
   "source": [
    "imgface"
   ]
  },
  {
   "cell_type": "code",
   "execution_count": 329,
   "id": "e3716f62",
   "metadata": {},
   "outputs": [],
   "source": [
    "imgface_array =np.array(imgface)"
   ]
  },
  {
   "cell_type": "code",
   "execution_count": 330,
   "id": "41686a37",
   "metadata": {},
   "outputs": [],
   "source": [
    "imgface_array.shape"
   ]
  },
  {
   "cell_type": "code",
   "execution_count": 331,
   "id": "d19dbd59",
   "metadata": {},
   "outputs": [],
   "source": [
    "plt.imshow(imgface_array)"
   ]
  },
  {
   "cell_type": "code",
   "execution_count": 332,
   "id": "e4a718e0",
   "metadata": {},
   "outputs": [],
   "source": [
    "text_faceimg1= imgface_array.copy()\n",
    "text_faceimg2= imgface_array.copy()\n",
    "text_faceimg3= imgface_array.copy()"
   ]
  },
  {
   "cell_type": "markdown",
   "id": "03e66735",
   "metadata": {},
   "source": [
    "# remove red color"
   ]
  },
  {
   "cell_type": "code",
   "execution_count": 333,
   "id": "5aca1144",
   "metadata": {
    "scrolled": true
   },
   "outputs": [],
   "source": [
    "text_faceimg1[:,:,0]=0\n",
    "plt.imshow(text_faceimg1)"
   ]
  },
  {
   "cell_type": "markdown",
   "id": "7dba0aaf",
   "metadata": {},
   "source": [
    "# remove green color"
   ]
  },
  {
   "cell_type": "code",
   "execution_count": 334,
   "id": "0c710c39",
   "metadata": {
    "scrolled": true
   },
   "outputs": [],
   "source": [
    "text_faceimg2[:,:,1]=0\n",
    "plt.imshow(text_faceimg2)"
   ]
  },
  {
   "cell_type": "markdown",
   "id": "fee00735",
   "metadata": {},
   "source": [
    "# remove blue color"
   ]
  },
  {
   "cell_type": "code",
   "execution_count": 335,
   "id": "9306a776",
   "metadata": {},
   "outputs": [],
   "source": [
    "text_faceimg3[:,:,2]=0\n",
    "plt.imshow(text_faceimg3)"
   ]
  },
  {
   "cell_type": "markdown",
   "id": "dda3073b",
   "metadata": {},
   "source": [
    "# remove combine\n",
    "red+green"
   ]
  },
  {
   "cell_type": "code",
   "execution_count": 336,
   "id": "3afa5da2",
   "metadata": {},
   "outputs": [],
   "source": [
    "text_faceimg1[:,:,0]=0\n",
    "text_faceimg1[:,:,1]=0\n",
    "plt.imshow(text_faceimg1)"
   ]
  },
  {
   "cell_type": "markdown",
   "id": "d3e529e1",
   "metadata": {},
   "source": [
    "remove blue+green"
   ]
  },
  {
   "cell_type": "code",
   "execution_count": 337,
   "id": "a5d089f8",
   "metadata": {},
   "outputs": [],
   "source": [
    "text_faceimg2[:,:,2]=0\n",
    "text_faceimg2[:,:,1]=0\n",
    "plt.imshow(text_faceimg2)"
   ]
  },
  {
   "cell_type": "code",
   "execution_count": 338,
   "id": "35145028",
   "metadata": {},
   "outputs": [],
   "source": [
    "text_faceimg3[:,:,2]=0\n",
    "text_faceimg3[:,:,0]=0\n",
    "plt.imshow(text_faceimg3)"
   ]
  },
  {
   "cell_type": "code",
   "execution_count": 339,
   "id": "acbaf032",
   "metadata": {},
   "outputs": [],
   "source": [
    "#all remove color \n",
    "text_faceimg1[:,:,0]=0\n",
    "text_faceimg1[:,:,1]=0\n",
    "text_faceimg1[:,:,2]=0\n",
    "\n",
    "plt.imshow(text_faceimg1)"
   ]
  },
  {
   "cell_type": "code",
   "execution_count": 340,
   "id": "ea671a6b",
   "metadata": {},
   "outputs": [],
   "source": [
    "text_faceimg1= imgface_array.copy()\n",
    "text_faceimg2= imgface_array.copy()\n",
    "text_faceimg3= imgface_array.copy()"
   ]
  },
  {
   "cell_type": "code",
   "execution_count": 341,
   "id": "c7232cb9",
   "metadata": {
    "scrolled": true
   },
   "outputs": [],
   "source": [
    "text_faceimg1[:,:,0]=255\n",
    "plt.imshow(text_faceimg1)"
   ]
  },
  {
   "cell_type": "code",
   "execution_count": 342,
   "id": "86e22063",
   "metadata": {},
   "outputs": [],
   "source": [
    "text_faceimg2[:,:,1]=255\n",
    "plt.imshow(text_faceimg2)"
   ]
  },
  {
   "cell_type": "code",
   "execution_count": 343,
   "id": "4e55d987",
   "metadata": {},
   "outputs": [],
   "source": [
    "text_faceimg3[:,:,2]=255\n",
    "plt.imshow(text_faceimg3)"
   ]
  },
  {
   "cell_type": "code",
   "execution_count": 344,
   "id": "2084177c",
   "metadata": {},
   "outputs": [],
   "source": [
    "imgface.getbbox()"
   ]
  },
  {
   "cell_type": "code",
   "execution_count": 345,
   "id": "a3af673b",
   "metadata": {},
   "outputs": [],
   "source": [
    "imgface.format"
   ]
  },
  {
   "cell_type": "code",
   "execution_count": 346,
   "id": "e34ab2b6",
   "metadata": {},
   "outputs": [],
   "source": [
    "imgface.size"
   ]
  },
  {
   "cell_type": "code",
   "execution_count": 347,
   "id": "d066cc41",
   "metadata": {},
   "outputs": [],
   "source": [
    "imgface.rotate(90)"
   ]
  },
  {
   "cell_type": "code",
   "execution_count": 348,
   "id": "1530792a",
   "metadata": {},
   "outputs": [],
   "source": [
    "imgface.rotate(250)"
   ]
  },
  {
   "cell_type": "code",
   "execution_count": 349,
   "id": "8b3acc17",
   "metadata": {},
   "outputs": [],
   "source": [
    "imgface.resize((180,120))"
   ]
  },
  {
   "cell_type": "code",
   "execution_count": 350,
   "id": "7d09f26d",
   "metadata": {},
   "outputs": [],
   "source": [
    "imgface"
   ]
  },
  {
   "cell_type": "code",
   "execution_count": 351,
   "id": "65cec0c6",
   "metadata": {
    "scrolled": true
   },
   "outputs": [],
   "source": [
    "flip=imgface.transpose(Image.FLIP_LEFT_RIGHT)\n",
    "flip"
   ]
  },
  {
   "cell_type": "code",
   "execution_count": 352,
   "id": "60d00423",
   "metadata": {},
   "outputs": [],
   "source": [
    "flip=imgface.transpose(Image.FLIP_TOP_BOTTOM)\n",
    "flip"
   ]
  },
  {
   "cell_type": "markdown",
   "id": "8aaba434",
   "metadata": {},
   "source": [
    "# filtering "
   ]
  },
  {
   "cell_type": "code",
   "execution_count": 353,
   "id": "f4c4e784",
   "metadata": {},
   "outputs": [],
   "source": [
    "from PIL import Image, ImageFilter\n",
    "imgface.filter(ImageFilter.BLUR)"
   ]
  },
  {
   "cell_type": "code",
   "execution_count": 354,
   "id": "0973bd9a",
   "metadata": {},
   "outputs": [],
   "source": [
    "imgface.filter(ImageFilter.CONTOUR)"
   ]
  },
  {
   "cell_type": "code",
   "execution_count": 355,
   "id": "abdb1b5f",
   "metadata": {},
   "outputs": [],
   "source": [
    "imgface.filter(ImageFilter.EMBOSS)"
   ]
  },
  {
   "cell_type": "code",
   "execution_count": 356,
   "id": "5fff1f33",
   "metadata": {},
   "outputs": [],
   "source": [
    "imgface.filter(ImageFilter.EDGE_ENHANCE)"
   ]
  },
  {
   "cell_type": "code",
   "execution_count": 357,
   "id": "97c4032a",
   "metadata": {},
   "outputs": [],
   "source": [
    "imgface.filter(ImageFilter.SMOOTH)"
   ]
  },
  {
   "cell_type": "code",
   "execution_count": 358,
   "id": "c6f197cc",
   "metadata": {},
   "outputs": [],
   "source": [
    "imgplit = Image.Image.split(imgface)"
   ]
  },
  {
   "cell_type": "code",
   "execution_count": 359,
   "id": "0b0f6512",
   "metadata": {},
   "outputs": [],
   "source": [
    "imgplit[0]"
   ]
  },
  {
   "cell_type": "code",
   "execution_count": 360,
   "id": "752e2d0b",
   "metadata": {},
   "outputs": [],
   "source": [
    "imgplit[1]"
   ]
  },
  {
   "cell_type": "code",
   "execution_count": 361,
   "id": "3ecbb0ad",
   "metadata": {},
   "outputs": [],
   "source": [
    "imgplit[2]"
   ]
  },
  {
   "cell_type": "markdown",
   "id": "254a5e83",
   "metadata": {},
   "source": [
    "# shape on image "
   ]
  },
  {
   "cell_type": "code",
   "execution_count": 362,
   "id": "c8c25f1d",
   "metadata": {},
   "outputs": [],
   "source": [
    "img1 = np.zeros(shape=(500,500,3), dtype=np.int32)"
   ]
  },
  {
   "cell_type": "code",
   "execution_count": 363,
   "id": "b3a9a233",
   "metadata": {},
   "outputs": [],
   "source": [
    "plt.imshow(img1)"
   ]
  },
  {
   "cell_type": "code",
   "execution_count": 364,
   "id": "9ce06c46",
   "metadata": {},
   "outputs": [],
   "source": [
    "cv2.rectangle(img1, pt1=[300,50], pt2=[400,100], color=(0,0,255), thickness=2)\n",
    "plt.imshow(img1)"
   ]
  },
  {
   "cell_type": "code",
   "execution_count": 365,
   "id": "b71fd697",
   "metadata": {},
   "outputs": [],
   "source": [
    "cv2.rectangle(img1, pt1=[300,50], pt2=[400,100], color=(0,0,255), thickness=2)\n",
    "plt.imshow(img1)"
   ]
  },
  {
   "cell_type": "code",
   "execution_count": 366,
   "id": "fae86d7a",
   "metadata": {},
   "outputs": [],
   "source": [
    "cv2.circle(img1, center=(250,250), radius=50, color=(255,0,0), thickness=-1)\n",
    "plt.imshow(img1)"
   ]
  },
  {
   "cell_type": "code",
   "execution_count": 367,
   "id": "db55286e",
   "metadata": {},
   "outputs": [],
   "source": [
    "img2=np.zeros(shape=(500,500,3), dtype=np.int32)\n",
    "plt.imshow(img2)"
   ]
  },
  {
   "cell_type": "code",
   "execution_count": 368,
   "id": "e89cd940",
   "metadata": {},
   "outputs": [],
   "source": [
    "font = cv2.FONT_HERSHEY_PLAIN\n",
    "cv2.putText(img2, text='Koushik Roy', org=(100, 300), fontFace=font, fontScale=3, color=(220,145,10))\n",
    "plt.imshow(img2)"
   ]
  },
  {
   "cell_type": "code",
   "execution_count": 369,
   "id": "9730e181",
   "metadata": {},
   "outputs": [],
   "source": [
    "font = cv2.FONT_ITALIC\n",
    "cv2.putText(img2, text='Koushik Roy', org=(50, 100), fontFace=font, fontScale=3, color=(220,145,10))\n",
    "plt.imshow(img2)"
   ]
  },
  {
   "cell_type": "code",
   "execution_count": 370,
   "id": "6a1548db",
   "metadata": {},
   "outputs": [],
   "source": [
    "font = cv2.FONT_ITALIC\n",
    "cv2.putText(img2, text='Koushik Roy', org=(10, 100), fontFace=font, fontScale=3, color=(220,145,10))\n",
    "plt.imshow(img2)"
   ]
  },
  {
   "cell_type": "code",
   "execution_count": 371,
   "id": "e859b291",
   "metadata": {
    "scrolled": false
   },
   "outputs": [],
   "source": [
    "font = cv2.FONT_ITALIC\n",
    "cv2.putText(img2, text='Koushik Roy', org=(100, 200), fontFace=font, fontScale=3, color=(220,145,10))\n",
    "plt.imshow(img2)"
   ]
  },
  {
   "cell_type": "code",
   "execution_count": 372,
   "id": "9780dfa9",
   "metadata": {},
   "outputs": [],
   "source": [
    "img3 = np.zeros(shape=(500,500,3), dtype=np.int32)"
   ]
  },
  {
   "cell_type": "code",
   "execution_count": 373,
   "id": "b7d6d589",
   "metadata": {},
   "outputs": [],
   "source": [
    "vertices = np.array([[50,80],[400,50], [400,300],[100,300]], np.int32)"
   ]
  },
  {
   "cell_type": "code",
   "execution_count": 374,
   "id": "11fd4854",
   "metadata": {},
   "outputs": [],
   "source": [
    "cv2.polylines(img3,[vertices],isClosed=True, color=[255,0,0])\n",
    "plt.imshow(img3)"
   ]
  },
  {
   "cell_type": "code",
   "execution_count": 375,
   "id": "9b0451eb",
   "metadata": {},
   "outputs": [],
   "source": [
    "vertices = np.array([[400,50], [400,300],[100,300]], np.int32)\n",
    "cv2.polylines(img3,[vertices],isClosed=True, color=[100,255,0], thickness=3)\n",
    "plt.imshow(img3)"
   ]
  },
  {
   "cell_type": "code",
   "execution_count": 376,
   "id": "74434d2c",
   "metadata": {},
   "outputs": [],
   "source": [
    "vertices = np.array([[50,400],[50,200], [250,50],[450,200],[450,400],[250,450]], np.int32)\n",
    "cv2.polylines(img3,[vertices],isClosed=True, color=[0,255,154], thickness=3)\n",
    "plt.imshow(img3)"
   ]
  },
  {
   "cell_type": "markdown",
   "id": "ff8ea3de",
   "metadata": {},
   "source": [
    "# image and CV"
   ]
  },
  {
   "cell_type": "code",
   "execution_count": 377,
   "id": "cab4691e",
   "metadata": {},
   "outputs": [],
   "source": [
    "imgg = cv2.imread(\"faceRGB.jpg\")"
   ]
  },
  {
   "cell_type": "code",
   "execution_count": 378,
   "id": "1da19045",
   "metadata": {},
   "outputs": [],
   "source": [
    "plt.imshow(imgg)"
   ]
  },
  {
   "cell_type": "code",
   "execution_count": 379,
   "id": "af9b6fe9",
   "metadata": {},
   "outputs": [],
   "source": [
    "pic = cv2.cvtColor(imgg, cv2.COLOR_BGR2RGB)"
   ]
  },
  {
   "cell_type": "code",
   "execution_count": 380,
   "id": "1a1b540d",
   "metadata": {},
   "outputs": [],
   "source": [
    "plt.imshow(pic)"
   ]
  },
  {
   "cell_type": "code",
   "execution_count": 381,
   "id": "44b59551",
   "metadata": {},
   "outputs": [],
   "source": [
    "pic2=cv2.resize(pic,(5000,3000))"
   ]
  },
  {
   "cell_type": "code",
   "execution_count": 382,
   "id": "73bc5e94",
   "metadata": {},
   "outputs": [],
   "source": [
    "plt.imshow(pic2)"
   ]
  },
  {
   "cell_type": "code",
   "execution_count": 383,
   "id": "37b0b1c3",
   "metadata": {
    "scrolled": false
   },
   "outputs": [],
   "source": [
    "pic2=cv2.resize(pic,(100,100), pic,0.5,0.5)\n",
    "plt.imshow(pic2)"
   ]
  },
  {
   "cell_type": "code",
   "execution_count": 384,
   "id": "adeb54e3",
   "metadata": {},
   "outputs": [],
   "source": [
    "pic2.shape"
   ]
  },
  {
   "cell_type": "code",
   "execution_count": 385,
   "id": "a014d19f",
   "metadata": {},
   "outputs": [],
   "source": [
    "img_1= cv2.imread(\"img.JPG\")\n",
    "img_2= cv2.imread(\"img2.JPG\")"
   ]
  },
  {
   "cell_type": "code",
   "execution_count": 386,
   "id": "db822d76",
   "metadata": {},
   "outputs": [],
   "source": [
    "plt.imshow(img_1)"
   ]
  },
  {
   "cell_type": "code",
   "execution_count": 387,
   "id": "e98b108f",
   "metadata": {},
   "outputs": [],
   "source": [
    "plt.imshow(img_2)"
   ]
  },
  {
   "cell_type": "code",
   "execution_count": 388,
   "id": "ada6b260",
   "metadata": {},
   "outputs": [],
   "source": [
    "img_2_resized = cv2.resize(img_2, (img_1.shape[1], img_1.shape[0]))\n",
    "add_img = cv2.add(img_1,img_2_resized)\n",
    "plt.imshow(add_img)"
   ]
  },
  {
   "cell_type": "code",
   "execution_count": 389,
   "id": "e6de2aba",
   "metadata": {},
   "outputs": [],
   "source": [
    "weighteding = cv2.addWeighted(img_1, 0.5, img_2_resized,0.4,0)\n",
    "plt.imshow(weighteding)"
   ]
  },
  {
   "cell_type": "code",
   "execution_count": 390,
   "id": "9c520231",
   "metadata": {},
   "outputs": [],
   "source": [
    "weighteding = cv2.addWeighted(img_1, 0.91, img_2_resized,0.4,0)\n",
    "plt.imshow(weighteding)"
   ]
  },
  {
   "cell_type": "code",
   "execution_count": 391,
   "id": "3fc5d87f",
   "metadata": {},
   "outputs": [],
   "source": [
    "add_img = cv2.subtract(img_1,img_2_resized)\n",
    "plt.imshow(add_img)"
   ]
  },
  {
   "cell_type": "code",
   "execution_count": 392,
   "id": "abac799a",
   "metadata": {},
   "outputs": [],
   "source": [
    "add_img = cv2.bitwise_and(img_1,img_2_resized)\n",
    "plt.imshow(add_img)"
   ]
  },
  {
   "cell_type": "code",
   "execution_count": 393,
   "id": "ab1a3fe8",
   "metadata": {},
   "outputs": [],
   "source": [
    "add_img = cv2.bitwise_or(img_1,img_2_resized)\n",
    "plt.imshow(add_img)"
   ]
  },
  {
   "cell_type": "code",
   "execution_count": 395,
   "id": "518369d0",
   "metadata": {},
   "outputs": [],
   "source": [
    "add_img = cv2.bitwise_not(img_1,img_2_resized)\n",
    "plt.imshow(add_img)"
   ]
  },
  {
   "cell_type": "code",
   "execution_count": null,
   "id": "b28a658a",
   "metadata": {},
   "outputs": [],
   "source": []
  }
 ],
 "metadata": {
  "kernelspec": {
   "display_name": "Python 3 (ipykernel)",
   "language": "python",
   "name": "python3"
  },
  "language_info": {
   "codemirror_mode": {
    "name": "ipython",
    "version": 3
   },
   "file_extension": ".py",
   "mimetype": "text/x-python",
   "name": "python",
   "nbconvert_exporter": "python",
   "pygments_lexer": "ipython3",
   "version": "3.9.16"
  }
 },
 "nbformat": 4,
 "nbformat_minor": 5
}
