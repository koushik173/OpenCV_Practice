{
 "cells": [
  {
   "cell_type": "code",
   "execution_count": 1,
   "id": "b8ff1d57",
   "metadata": {},
   "outputs": [],
   "source": [
    "import cv2 as cv"
   ]
  },
  {
   "cell_type": "code",
   "execution_count": 6,
   "id": "6e059ef0",
   "metadata": {},
   "outputs": [
    {
     "data": {
      "text/plain": [
       "-1"
      ]
     },
     "execution_count": 6,
     "metadata": {},
     "output_type": "execute_result"
    }
   ],
   "source": [
    "img = cv.imread('../images/plantType.PNG')\n",
    "cv.imshow(\"images\", img)\n",
    "cv.waitKey(0)"
   ]
  },
  {
   "cell_type": "code",
   "execution_count": 5,
   "id": "f7d31aed",
   "metadata": {},
   "outputs": [
    {
     "data": {
      "text/plain": [
       "-1"
      ]
     },
     "execution_count": 5,
     "metadata": {},
     "output_type": "execute_result"
    }
   ],
   "source": [
    "# Averaging\n",
    "average = cv.blur(img, (3,3))\n",
    "cv.imshow('Average Blur', average)\n",
    "\n",
    "# Gaussian Blur\n",
    "gauss = cv.GaussianBlur(img, (3,3), 0)\n",
    "cv.imshow('Gaussian Blur', gauss)\n",
    "\n",
    "# Median Blur\n",
    "median = cv.medianBlur(img, 3)\n",
    "cv.imshow('Median Blur', median)\n",
    "\n",
    "# Bilateral\n",
    "bilateral = cv.bilateralFilter(img, 20, 55, 25)\n",
    "cv.imshow('Bilateral', bilateral)\n",
    "\n",
    "\n",
    "cv.waitKey(0)"
   ]
  },
  {
   "cell_type": "code",
   "execution_count": null,
   "id": "b7f363f4",
   "metadata": {},
   "outputs": [],
   "source": []
  }
 ],
 "metadata": {
  "kernelspec": {
   "display_name": "Python 3 (ipykernel)",
   "language": "python",
   "name": "python3"
  },
  "language_info": {
   "codemirror_mode": {
    "name": "ipython",
    "version": 3
   },
   "file_extension": ".py",
   "mimetype": "text/x-python",
   "name": "python",
   "nbconvert_exporter": "python",
   "pygments_lexer": "ipython3",
   "version": "3.10.9"
  }
 },
 "nbformat": 4,
 "nbformat_minor": 5
}
