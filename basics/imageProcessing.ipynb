{
 "cells": [
  {
   "cell_type": "code",
   "execution_count": 2,
   "id": "0db7df15",
   "metadata": {},
   "outputs": [],
   "source": [
    "import numpy as np\n",
    "import cv2\n",
    "import matplotlib.pyplot as plt\n",
    "import math"
   ]
  },
  {
   "cell_type": "markdown",
   "id": "73a0f5aa-6640-452d-84b3-2d46d7607dff",
   "metadata": {},
   "source": [
    "# read an image"
   ]
  },
  {
   "cell_type": "code",
   "execution_count": null,
   "id": "207d9547",
   "metadata": {},
   "outputs": [],
   "source": [
    "imgg = cv2.imread(\"faceRGB.jpg\")"
   ]
  },
  {
   "cell_type": "code",
   "execution_count": null,
   "id": "103776a0",
   "metadata": {},
   "outputs": [],
   "source": [
    "type(imgg)"
   ]
  },
  {
   "cell_type": "code",
   "execution_count": null,
   "id": "5d701c4f",
   "metadata": {},
   "outputs": [],
   "source": [
    "plt.imshow(imgg)"
   ]
  },
  {
   "cell_type": "code",
   "execution_count": null,
   "id": "6ac4341d-2ac9-44dd-9234-83f4cec09646",
   "metadata": {},
   "outputs": [],
   "source": [
    "# cv2.imshow(\"window\",imgg)\n",
    "# cv2.waitKey(0)"
   ]
  },
  {
   "cell_type": "code",
   "execution_count": null,
   "id": "ae0f75a7",
   "metadata": {},
   "outputs": [],
   "source": [
    "gray_img = cv2.cvtColor(imgg, cv2.COLOR_BGR2GRAY)"
   ]
  },
  {
   "cell_type": "code",
   "execution_count": null,
   "id": "c87ea258",
   "metadata": {},
   "outputs": [],
   "source": [
    "plt.imshow(gray_img)"
   ]
  },
  {
   "cell_type": "code",
   "execution_count": null,
   "id": "eac50ab5",
   "metadata": {},
   "outputs": [],
   "source": [
    "gray_img.shape"
   ]
  },
  {
   "cell_type": "code",
   "execution_count": null,
   "id": "89397d0e",
   "metadata": {},
   "outputs": [],
   "source": [
    "imgBlue=imgg[:,:,0]\n",
    "imgGreen=imgg[:,:,1]\n",
    "imgRed=imgg[:,:,2]"
   ]
  },
  {
   "cell_type": "code",
   "execution_count": null,
   "id": "99a7d8b0",
   "metadata": {},
   "outputs": [],
   "source": [
    "plt.imshow(np.hstack((imgBlue, imgGreen, imgRed)))"
   ]
  },
  {
   "cell_type": "markdown",
   "id": "52bb2c20",
   "metadata": {},
   "source": [
    "# openCv Events"
   ]
  },
  {
   "cell_type": "code",
   "execution_count": 2,
   "id": "9247b16d",
   "metadata": {},
   "outputs": [],
   "source": [
    "img = np.zeros((512,512,3))"
   ]
  },
  {
   "cell_type": "code",
   "execution_count": 3,
   "id": "1ea1c95b",
   "metadata": {},
   "outputs": [
    {
     "data": {
      "text/plain": [
       "<matplotlib.image.AxesImage at 0x2013ee4ebf0>"
      ]
     },
     "execution_count": 3,
     "metadata": {},
     "output_type": "execute_result"
    },
    {
     "data": {
      "image/png": "[encoded data removed]",
      "text/plain": [
       "<Figure size 640x480 with 1 Axes>"
      ]
     },
     "metadata": {},
     "output_type": "display_data"
    }
   ],
   "source": [
    "plt.imshow(img)"
   ]
  },
  {
   "cell_type": "code",
   "execution_count": 4,
   "id": "32aba94f",
   "metadata": {},
   "outputs": [],
   "source": [
    "flag = False\n",
    "ix=-1\n",
    "iy=-1\n",
    "\n",
    "def draw(event,x,y,flags,params):\n",
    "    \n",
    "    global flag,ix,iy\n",
    "    r = int(math.sqrt((x - ix)**2 + (y - iy)**2))\n",
    "    if event ==1:\n",
    "        flag = True\n",
    "        ix= x\n",
    "        iy= y\n",
    "    if event ==0:\n",
    "        if flag == True:\n",
    "            cv2.circle(img, center=(ix,iy), radius=r, color=(0,0,255), thickness=-1)\n",
    "    if event ==4:\n",
    "        flag=False\n",
    "        cv2.circle(img, center=(ix,iy), radius=r, color=(0,0,255), thickness=-1)"
   ]
  },
  {
   "cell_type": "code",
   "execution_count": 5,
   "id": "c62deb58",
   "metadata": {
    "scrolled": false
   },
   "outputs": [],
   "source": [
    "cv2.namedWindow(winname=\"window\")\n",
    "cv2.setMouseCallback(\"window\",draw)\n",
    "while True:\n",
    "    cv2.imshow(\"window\", img)\n",
    "    if cv2.waitKey(1) & 0xFF ==ord('x'):\n",
    "        break\n",
    "cv2.destroyAllWindows()"
   ]
  },
  {
   "cell_type": "markdown",
   "id": "01156844",
   "metadata": {},
   "source": [
    "# image Croping tool"
   ]
  },
  {
   "cell_type": "code",
   "execution_count": 3,
   "id": "87636de4",
   "metadata": {},
   "outputs": [
    {
     "ename": "error",
     "evalue": "OpenCV(4.8.0) D:\\a\\opencv-python\\opencv-python\\opencv\\modules\\highgui\\src\\window.cpp:971: error: (-215:Assertion failed) size.width>0 && size.height>0 in function 'cv::imshow'\n",
     "output_type": "error",
     "traceback": [
      "\u001b[1;31m---------------------------------------------------------------------------\u001b[0m",
      "\u001b[1;31merror\u001b[0m                                     Traceback (most recent call last)",
      "Cell \u001b[1;32mIn[3], line 28\u001b[0m\n\u001b[0;32m     26\u001b[0m cv2\u001b[38;5;241m.\u001b[39msetMouseCallback(\u001b[38;5;124m\"\u001b[39m\u001b[38;5;124mwindow\u001b[39m\u001b[38;5;124m\"\u001b[39m,crop)\n\u001b[0;32m     27\u001b[0m \u001b[38;5;28;01mwhile\u001b[39;00m \u001b[38;5;28;01mTrue\u001b[39;00m:\n\u001b[1;32m---> 28\u001b[0m     \u001b[43mcv2\u001b[49m\u001b[38;5;241;43m.\u001b[39;49m\u001b[43mimshow\u001b[49m\u001b[43m(\u001b[49m\u001b[38;5;124;43m\"\u001b[39;49m\u001b[38;5;124;43mwindow\u001b[39;49m\u001b[38;5;124;43m\"\u001b[39;49m\u001b[43m,\u001b[49m\u001b[43m \u001b[49m\u001b[43mimgg\u001b[49m\u001b[43m)\u001b[49m\n\u001b[0;32m     29\u001b[0m     \u001b[38;5;28;01mif\u001b[39;00m cv2\u001b[38;5;241m.\u001b[39mwaitKey(\u001b[38;5;241m1\u001b[39m) \u001b[38;5;241m&\u001b[39m \u001b[38;5;241m0xFF\u001b[39m \u001b[38;5;241m==\u001b[39m\u001b[38;5;28mord\u001b[39m(\u001b[38;5;124m'\u001b[39m\u001b[38;5;124mx\u001b[39m\u001b[38;5;124m'\u001b[39m):\n\u001b[0;32m     30\u001b[0m         \u001b[38;5;28;01mbreak\u001b[39;00m\n",
      "\u001b[1;31merror\u001b[0m: OpenCV(4.8.0) D:\\a\\opencv-python\\opencv-python\\opencv\\modules\\highgui\\src\\window.cpp:971: error: (-215:Assertion failed) size.width>0 && size.height>0 in function 'cv::imshow'\n"
     ]
    }
   ],
   "source": [
    "imgg = cv2.imread(\"man.png\")\n",
    "flag = False\n",
    "ix=-1\n",
    "iy=-1\n",
    "\n",
    "def crop(event,x,y,flags,params):\n",
    "    \n",
    "    global flag,ix,iy\n",
    "    r = int(math.sqrt((x - ix)**2 + (y - iy)**2))\n",
    "    if event ==1:\n",
    "        flag = True\n",
    "        ix= x\n",
    "        iy= y\n",
    "    if event ==4:\n",
    "        fx=x\n",
    "        fy=y\n",
    "        flag=False\n",
    "        cv2.rectangle(imgg, pt1=(ix,iy), pt2=(x,y), thickness=1, color=(0,0,1))\n",
    "        \n",
    "        #crop tools\n",
    "        cropped = imgg[iy:fy, ix:fx]\n",
    "        cv2.imshow(\"new_window\",cropped)\n",
    "\n",
    "\n",
    "cv2.namedWindow(winname=\"window\")\n",
    "cv2.setMouseCallback(\"window\",crop)\n",
    "while True:\n",
    "    cv2.imshow(\"window\", imgg)\n",
    "    if cv2.waitKey(1) & 0xFF ==ord('x'):\n",
    "        break\n",
    "cv2.destroyAllWindows()"
   ]
  },
  {
   "cell_type": "code",
   "execution_count": null,
   "id": "aa0ac5ac",
   "metadata": {},
   "outputs": [],
   "source": []
  },
  {
   "cell_type": "code",
   "execution_count": null,
   "id": "df296feb",
   "metadata": {},
   "outputs": [],
   "source": []
  }
 ],
 "metadata": {
  "kernelspec": {
   "display_name": "Python 3 (ipykernel)",
   "language": "python",
   "name": "python3"
  },
  "language_info": {
   "codemirror_mode": {
    "name": "ipython",
    "version": 3
   },
   "file_extension": ".py",
   "mimetype": "text/x-python",
   "name": "python",
   "nbconvert_exporter": "python",
   "pygments_lexer": "ipython3",
   "version": "3.10.9"
  }
 },
 "nbformat": 4,
 "nbformat_minor": 5
}
