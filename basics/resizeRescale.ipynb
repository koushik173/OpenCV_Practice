{
 "cells": [
  {
   "cell_type": "code",
   "execution_count": 2,
   "id": "bae852bd",
   "metadata": {},
   "outputs": [],
   "source": [
    "import cv2 as cv\n",
    "import numpy as np"
   ]
  },
  {
   "cell_type": "code",
   "execution_count": null,
   "id": "00113dae",
   "metadata": {},
   "outputs": [],
   "source": [
    "def rescaleFrame(frame, scale=0.75):\n",
    "    width=int(frame.shape[1] * scale)\n",
    "    height=int(frame.shape[0] * scale)        \n",
    "    dimensions=(width, height)\n",
    "    return cv.resize(frame, dimensions, interpolation=cv.INTER_AREA)"
   ]
  },
  {
   "cell_type": "code",
   "execution_count": 17,
   "id": "de94e0ad",
   "metadata": {},
   "outputs": [],
   "source": [
    "# this is for live videos\n",
    "\n",
    "def changesRes(width, height):\n",
    "    capture.set(3, width)\n",
    "    capture.set(4, height)    "
   ]
  },
  {
   "cell_type": "code",
   "execution_count": 15,
   "id": "5e589815",
   "metadata": {},
   "outputs": [],
   "source": [
    "cap = cv.VideoCapture('app.mp4')\n",
    "\n",
    "while True:\n",
    "    isTrue, frame = cap.read()\n",
    "    \n",
    "    resize_frame = rescaleFrame(frame, scale=0.5)\n",
    "    \n",
    "    cv.imshow(\"video\", frame)\n",
    "    cv.imshow(\"Video resize\", resize_frame)\n",
    "    \n",
    "    if cv.waitKey(20) & 0xFF == ord('x'):\n",
    "        break\n",
    "\n",
    "cap.release()\n",
    "cv.destroyAllWindows()"
   ]
  },
  {
   "cell_type": "code",
   "execution_count": null,
   "id": "efa1102d",
   "metadata": {},
   "outputs": [],
   "source": [
    "l"
   ]
  }
 ],
 "metadata": {
  "kernelspec": {
   "display_name": "Python 3 (ipykernel)",
   "language": "python",
   "name": "python3"
  },
  "language_info": {
   "codemirror_mode": {
    "name": "ipython",
    "version": 3
   },
   "file_extension": ".py",
   "mimetype": "text/x-python",
   "name": "python",
   "nbconvert_exporter": "python",
   "pygments_lexer": "ipython3",
   "version": "3.10.9"
  }
 },
 "nbformat": 4,
 "nbformat_minor": 5
}
