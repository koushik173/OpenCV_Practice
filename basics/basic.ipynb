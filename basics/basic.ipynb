{
 "cells": [
  {
   "cell_type": "code",
   "execution_count": 1,
   "id": "0da027e7",
   "metadata": {},
   "outputs": [],
   "source": [
    "import cv2 as cv"
   ]
  },
  {
   "cell_type": "markdown",
   "id": "84b550f7",
   "metadata": {},
   "source": [
    "# Gray"
   ]
  },
  {
   "cell_type": "code",
   "execution_count": 2,
   "id": "bae6bbaa",
   "metadata": {},
   "outputs": [
    {
     "data": {
      "text/plain": [
       "-1"
      ]
     },
     "execution_count": 2,
     "metadata": {},
     "output_type": "execute_result"
    }
   ],
   "source": [
    "img = cv.imread('images/plantType.PNG')\n",
    "cv.imshow(\"man\",img)\n",
    "\n",
    "gray = cv.cvtColor(img, cv.COLOR_BGR2GRAY)\n",
    "cv.imshow(\"gray\",gray)\n",
    "\n",
    "cv.waitKey(0)\n"
   ]
  },
  {
   "cell_type": "markdown",
   "id": "1ab655e4",
   "metadata": {},
   "source": [
    "#  Blur"
   ]
  },
  {
   "cell_type": "code",
   "execution_count": 8,
   "id": "9d9c978b",
   "metadata": {},
   "outputs": [
    {
     "data": {
      "text/plain": [
       "-1"
      ]
     },
     "execution_count": 8,
     "metadata": {},
     "output_type": "execute_result"
    }
   ],
   "source": [
    "blur = cv.GaussianBlur(img,(9,9), cv.BORDER_DEFAULT)\n",
    "cv.imshow(\"blur\",blur)\n",
    "\n",
    "cv.waitKey(0)"
   ]
  },
  {
   "cell_type": "markdown",
   "id": "2558de66",
   "metadata": {},
   "source": [
    "# Edge CaseCade"
   ]
  },
  {
   "cell_type": "code",
   "execution_count": 10,
   "id": "8e01fd05",
   "metadata": {},
   "outputs": [
    {
     "data": {
      "text/plain": [
       "-1"
      ]
     },
     "execution_count": 10,
     "metadata": {},
     "output_type": "execute_result"
    }
   ],
   "source": [
    "img = cv.imread('images/plantType.PNG')\n",
    "cv.imshow(\"man\",img)\n",
    "\n",
    "canny = cv.Canny(c, 125, 175)\n",
    "cv.imshow(\"canny\",canny)\n",
    "\n",
    "blurcanny = cv.Canny(blur, 125, 175)\n",
    "cv.imshow(\"blurcanny\",blurcanny)\n",
    "\n",
    "cv.waitKey(0)"
   ]
  },
  {
   "cell_type": "code",
   "execution_count": 5,
   "id": "e6bee0d7",
   "metadata": {},
   "outputs": [],
   "source": [
    "# Edge Cascade\n",
    "canny = cv.Canny(img, 125, 175)\n",
    "cv.imshow('Canny Edges', canny)\n",
    "\n",
    "# Dilating the image\n",
    "dilated = cv.dilate(img, (7,7), iterations=3)\n",
    "cv.imshow('Dilated', dilated)\n",
    "\n",
    "# Eroding\n",
    "eroded = cv.erode(img, (7,7), iterations=3)\n",
    "cv.imshow('Eroded', eroded)\n",
    "\n",
    "# Resize\n",
    "resized = cv.resize(img, (500,500), interpolation=cv.INTER_CUBIC)\n",
    "cv.imshow('Resized', resized)\n",
    "\n",
    "# Cropping\n",
    "cropped = img[50:200, 200:400] \n",
    "cv.imshow('Cropped', cropped)"
   ]
  },
  {
   "cell_type": "code",
   "execution_count": null,
   "id": "9623044b",
   "metadata": {},
   "outputs": [],
   "source": []
  }
 ],
 "metadata": {
  "kernelspec": {
   "display_name": "Python 3 (ipykernel)",
   "language": "python",
   "name": "python3"
  },
  "language_info": {
   "codemirror_mode": {
    "name": "ipython",
    "version": 3
   },
   "file_extension": ".py",
   "mimetype": "text/x-python",
   "name": "python",
   "nbconvert_exporter": "python",
   "pygments_lexer": "ipython3",
   "version": "3.10.9"
  }
 },
 "nbformat": 4,
 "nbformat_minor": 5
}
